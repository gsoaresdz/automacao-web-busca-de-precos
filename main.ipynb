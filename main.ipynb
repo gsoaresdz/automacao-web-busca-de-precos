{
 "cells": [
  {
   "cell_type": "markdown",
   "metadata": {},
   "source": [
    "##### Bibliotecas"
   ]
  },
  {
   "cell_type": "code",
   "execution_count": 93,
   "metadata": {},
   "outputs": [],
   "source": [
    "from selenium import webdriver\n",
    "from selenium.webdriver.common.keys import Keys\n",
    "from selenium.webdriver.common.by import By\n",
    "import pandas as pd\n",
    "import re\n",
    "import time"
   ]
  },
  {
   "cell_type": "markdown",
   "metadata": {},
   "source": [
    "##### Navegador"
   ]
  },
  {
   "cell_type": "code",
   "execution_count": 94,
   "metadata": {},
   "outputs": [],
   "source": [
    "nav = webdriver.Chrome()"
   ]
  },
  {
   "cell_type": "markdown",
   "metadata": {},
   "source": [
    "##### Base de dados"
   ]
  },
  {
   "cell_type": "code",
   "execution_count": 95,
   "metadata": {},
   "outputs": [
    {
     "data": {
      "text/html": [
       "<div>\n",
       "<style scoped>\n",
       "    .dataframe tbody tr th:only-of-type {\n",
       "        vertical-align: middle;\n",
       "    }\n",
       "\n",
       "    .dataframe tbody tr th {\n",
       "        vertical-align: top;\n",
       "    }\n",
       "\n",
       "    .dataframe thead th {\n",
       "        text-align: right;\n",
       "    }\n",
       "</style>\n",
       "<table border=\"1\" class=\"dataframe\">\n",
       "  <thead>\n",
       "    <tr style=\"text-align: right;\">\n",
       "      <th></th>\n",
       "      <th>Nome</th>\n",
       "      <th>Termos banidos</th>\n",
       "      <th>Preço mínimo</th>\n",
       "      <th>Preço máximo</th>\n",
       "    </tr>\n",
       "  </thead>\n",
       "  <tbody>\n",
       "    <tr>\n",
       "      <th>0</th>\n",
       "      <td>iphone 12 64 gb</td>\n",
       "      <td>mini watch</td>\n",
       "      <td>3000</td>\n",
       "      <td>3500</td>\n",
       "    </tr>\n",
       "    <tr>\n",
       "      <th>1</th>\n",
       "      <td>rtx 3060</td>\n",
       "      <td>zota galax</td>\n",
       "      <td>4000</td>\n",
       "      <td>4500</td>\n",
       "    </tr>\n",
       "  </tbody>\n",
       "</table>\n",
       "</div>"
      ],
      "text/plain": [
       "              Nome Termos banidos  Preço mínimo  Preço máximo\n",
       "0  iphone 12 64 gb     mini watch          3000          3500\n",
       "1         rtx 3060     zota galax          4000          4500"
      ]
     },
     "metadata": {},
     "output_type": "display_data"
    }
   ],
   "source": [
    "tabela_produtos = pd.read_excel('buscas.xlsx')\n",
    "display(tabela_produtos)"
   ]
  },
  {
   "cell_type": "markdown",
   "metadata": {},
   "source": [
    "##### Google Shopping"
   ]
  },
  {
   "cell_type": "markdown",
   "metadata": {},
   "source": [
    "- Variáveis"
   ]
  },
  {
   "cell_type": "code",
   "execution_count": 96,
   "metadata": {},
   "outputs": [],
   "source": [
    "produto = \"iphone 12 64 gb\"\n",
    "termos_banidos = 'mini watch'\n",
    "preco_minimo = 3000\n",
    "preco_maximo = 4500"
   ]
  },
  {
   "cell_type": "markdown",
   "metadata": {},
   "source": [
    "- Função"
   ]
  },
  {
   "cell_type": "code",
   "execution_count": 97,
   "metadata": {},
   "outputs": [],
   "source": [
    "def verificar_tem_termos_banidos(lista_termos_banidos, nome):\n",
    "  tem_termos_banidos = False\n",
    "  for palavra in termos_banidos.split(' '):\n",
    "    if palavra in nome:\n",
    "      tem_termos_banidos = True\n",
    "  return tem_termos_banidos\n",
    "\n",
    "def verificar_tem_todos_termos_produtos(lista_termos_nome_produto, nome):\n",
    "    tem_todos_termos_produtos = True\n",
    "    for palavra in lista_termos_nome_produto:\n",
    "      if palavra not in nome:\n",
    "        tem_todos_termos_produtos = False   \n",
    "    return tem_todos_termos_produtos\n",
    "\n",
    "def busca_google_shopping(nav, produto, termos_banidos, preco_minimo, preco_maximo):\n",
    "\n",
    "  produto = produto.lower()\n",
    "  termos_banidos = termos_banidos.lower()\n",
    "  lista_termos_banidos = termos_banidos.split(' ')\n",
    "  lista_termos_nome_produto = produto.split(' ')\n",
    "  lista_ofertas = []\n",
    "  \n",
    "  preco_minimo = float(preco_minimo)\n",
    "  preco_maximo = float(preco_maximo)\n",
    "\n",
    "  nav.get('https://www.google.com.br/')\n",
    "\n",
    "  nav.find_element(By.XPATH, '//*[@id=\"APjFqb\"]').send_keys(produto, Keys.ENTER)\n",
    "\n",
    "  # Aba Shopping\n",
    "  elementos = nav.find_element(By.CLASS_NAME, 'UqcIvb').click()\n",
    "\n",
    "  # Preços\n",
    "  lista_resultados = nav.find_elements(By.CLASS_NAME, 'KZmu8e')\n",
    "\n",
    "  for resultado in lista_resultados:\n",
    "    nome = resultado.find_element(By.CLASS_NAME, 'sh-np__product-title').text\n",
    "    nome = nome.lower()\n",
    "\n",
    "    tem_termos_banidos = verificar_tem_termos_banidos(lista_termos_banidos, nome)\n",
    "    tem_todos_termos_produtos = verificar_tem_todos_termos_produtos(lista_termos_nome_produto, nome)\n",
    "\n",
    "    if not tem_termos_banidos and tem_todos_termos_produtos:    \n",
    "      preco = resultado.find_element(By.CLASS_NAME, 'hn9kf').text\n",
    "      preco = re.search(r'\\d+\\.?\\d+', preco).group()\n",
    "      preco = preco.replace('R$', '').replace(' ', '').replace('.', '').replace(',', '.')\n",
    "      preco = float(preco)\n",
    "\n",
    "      if preco_minimo <= preco <= preco_maximo:\n",
    "        elemento_referencia = resultado.find_element(By.CLASS_NAME, 'SirUVb')\n",
    "        elemento_pai = elemento_referencia.find_element(By.XPATH, './..')\n",
    "        link = elemento_pai.get_attribute('href')\n",
    "        lista_ofertas.append((nome, preco, link))\n",
    "  return lista_ofertas\n",
    "\n",
    "\n",
    "def busca_buscape(nav, produto, termos_banidos, preco_minimo, preco_maximo):\n",
    "\n",
    "  produto = produto.lower()\n",
    "  termos_banidos = termos_banidos.lower()\n",
    "  lista_termos_banidos = termos_banidos.split(' ')\n",
    "  lista_termos_nome_produto = produto.split(' ')\n",
    "  lista_ofertas = []\n",
    "  preco_minimo = float(preco_minimo)\n",
    "  preco_maximo = float(preco_maximo)\n",
    "\n",
    "  nav.get('https://www.buscape.com.br/')\n",
    "  nav.find_element(By.XPATH, '//*[@id=\"new-header\"]/div[1]/div/div/div[3]/div/div/div[2]/div/div[1]/input').send_keys(produto, Keys.ENTER)\n",
    "\n",
    "  time.sleep(5)\n",
    "    \n",
    "  lista_resultados = nav.find_elements(By.CLASS_NAME, 'SearchCard_ProductCard_Inner__7JhKb')\n",
    "\n",
    "  for resultado in lista_resultados:\n",
    "    preco = resultado.find_element(By.CLASS_NAME, 'Text_MobileHeadingS__Zxam2').text\n",
    "    nome = resultado.find_element(By.CLASS_NAME, 'SearchCard_ProductCard_Name__ZaO5o').text\n",
    "    nome = nome.lower()\n",
    "    link = resultado.get_attribute('href')\n",
    "\n",
    "    tem_termos_banidos = verificar_tem_termos_banidos(lista_termos_banidos, nome)\n",
    "    tem_todos_termos_produtos = verificar_tem_todos_termos_produtos(lista_termos_nome_produto, nome)\n",
    "\n",
    "    if not tem_termos_banidos and tem_todos_termos_produtos:  \n",
    "      preco = preco.replace('R$', '').replace(' ', '').replace('.', '').replace(',', '.')\n",
    "      preco = float(preco)\n",
    "      if preco_minimo <= preco <= preco_maximo:\n",
    "        lista_ofertas.append((nome, preco, link))\n",
    "\n",
    "  return lista_ofertas"
   ]
  },
  {
   "cell_type": "code",
   "execution_count": 98,
   "metadata": {},
   "outputs": [
    {
     "name": "stdout",
     "output_type": "stream",
     "text": [
      "[('iphone 12 apple 64gb preto tela 6,1 12mp ios, 64gb, preto', 3749.0, 'https://www.google.com.br/aclk?sa=l&ai=DChcSEwj7nYj4q7uAAxVBw5EKHQG_BacYABABGgJjZQ&sig=AOD64_1tvpoU3fT9ybZtm7dJGIg7a0offw&ctype=46&q=&ved=0ahUKEwin94P4q7uAAxXERLgEHT4FDXsQqygIsQw&adurl='), ('smartphone apple iphone 12, 64gb, preto, 5g, 6.1\" super retina xdr oled, câmera dupla 12mp, selfie 12mp, ios 15', 3599.0, 'https://www.google.com.br/aclk?sa=l&ai=DChcSEwj7nYj4q7uAAxVBw5EKHQG_BacYABADGgJjZQ&sig=AOD64_3JvE_Ddt8XQdPpsL6HmQt6wgvW0Q&ctype=5&q=&ved=0ahUKEwin94P4q7uAAxXERLgEHT4FDXsQww8ItQw&adurl='), ('iphone 12 apple 64gb preto tela de 6,1, câmera dupla de 12mp, ios', 3749.0, 'https://www.google.com.br/aclk?sa=l&ai=DChcSEwj7nYj4q7uAAxVBw5EKHQG_BacYABAFGgJjZQ&sig=AOD64_17y_zd0I6_j1MI3SJBdTA7Lda7KA&ctype=5&q=&ved=0ahUKEwin94P4q7uAAxXERLgEHT4FDXsQww8IuQw&adurl='), ('iphone 12 64gb roxo tela 6,1 4g câmera traseira 12mp vitrine', 3299.0, 'https://www.google.com.br/aclk?sa=l&ai=DChcSEwj7nYj4q7uAAxVBw5EKHQG_BacYABAHGgJjZQ&sig=AOD64_29fr18cv7MUGcEcNDyMIXIqeji8A&ctype=5&q=&ved=0ahUKEwin94P4q7uAAxXERLgEHT4FDXsQww8IvQw&adurl='), ('iphone 12 apple (64gb) preto, tela de 6,1, 5g e câmera dupla de 12 mp', 3899.0, 'https://www.google.com.br/aclk?sa=l&ai=DChcSEwj7nYj4q7uAAxVBw5EKHQG_BacYABALGgJjZQ&sig=AOD64_3PqLqcEIaGUiT9xibx4bcUqiRyXw&ctype=5&q=&ved=0ahUKEwin94P4q7uAAxXERLgEHT4FDXsQww8IxAw&adurl='), ('apple iphone 12 (64 gb) - branco', 3599.0, 'https://www.google.com.br/aclk?sa=l&ai=DChcSEwj7nYj4q7uAAxVBw5EKHQG_BacYABANGgJjZQ&sig=AOD64_2jnYyoxhHamngewhCinqj5dMxFGQ&ctype=5&q=&ved=0ahUKEwin94P4q7uAAxXERLgEHT4FDXsQww8Ixww&adurl='), ('apple iphone 12 (64gb) - azul smartphone', 3699.0, 'https://www.google.com.br/aclk?sa=l&ai=DChcSEwj7nYj4q7uAAxVBw5EKHQG_BacYABARGgJjZQ&sig=AOD64_1zIpfzGxU-8efWeQY3PfxttwZImQ&ctype=5&q=&ved=0ahUKEwin94P4q7uAAxXERLgEHT4FDXsQww8Izww&adurl='), ('apple iphone 12 (64gb) - preto smartphone', 3699.0, 'https://www.google.com.br/aclk?sa=l&ai=DChcSEwj7nYj4q7uAAxVBw5EKHQG_BacYABAVGgJjZQ&sig=AOD64_0RkDmrNAENyF32GmUUvb84C5XPkg&ctype=5&q=&ved=0ahUKEwin94P4q7uAAxXERLgEHT4FDXsQww8I1gw&adurl='), ('vitrine iphone 12 preto 64gb', 3199.0, 'https://www.google.com.br/aclk?sa=l&ai=DChcSEwj7nYj4q7uAAxVBw5EKHQG_BacYABAXGgJjZQ&sig=AOD64_2mpQipjX8u7D3EIz3Sj9HjApC1jA&ctype=5&q=&ved=0ahUKEwin94P4q7uAAxXERLgEHT4FDXsQww8I2Qw&adurl='), ('celular apple iphone 12 branco 64gb seminovo/vitrine + fonte e cabo', 3334.0, 'https://www.google.com.br/aclk?sa=l&ai=DChcSEwj7nYj4q7uAAxVBw5EKHQG_BacYABAbGgJjZQ&sig=AOD64_3wNo6fXmF7lqog4aNkErGP8m1J6A&ctype=5&q=&ved=0ahUKEwin94P4q7uAAxXERLgEHT4FDXsQww8I4Aw&adurl='), ('apple iphone 12 (64gb) - roxo', 3699.0, 'https://www.google.com.br/aclk?sa=l&ai=DChcSEwj7nYj4q7uAAxVBw5EKHQG_BacYABAdGgJjZQ&sig=AOD64_1BdIFvsXCagyiQh6GbQWjdlxCkmw&ctype=5&q=&ved=0ahUKEwin94P4q7uAAxXERLgEHT4FDXsQww8I5Aw&adurl='), ('vitrine iphone 12 verde 64gb', 3199.0, 'https://www.google.com.br/aclk?sa=l&ai=DChcSEwj7nYj4q7uAAxVBw5EKHQG_BacYABAhGgJjZQ&sig=AOD64_1xXucVm2Py4YHgxbyzRU4IurRwzQ&ctype=5&q=&ved=0ahUKEwin94P4q7uAAxXERLgEHT4FDXsQww8I6ww&adurl='), ('iphone 12 apple 64gb preto tela de 6,1, câmera dupla de 12mp, ios', 3749.0, 'https://www.google.com.br/aclk?sa=l&ai=DChcSEwj7nYj4q7uAAxVBw5EKHQG_BacYABAjGgJjZQ&sig=AOD64_1NG1yKl7fyLtDolVhNDEKbh8-6TA&ctype=5&q=&ved=0ahUKEwin94P4q7uAAxXERLgEHT4FDXsQ9A4I0BU&adurl='), ('iphone 12 apple 64gb branco tela 6,1 12mp ios, 64gb, branco', 3749.0, 'https://www.google.com.br/aclk?sa=l&ai=DChcSEwj7nYj4q7uAAxVBw5EKHQG_BacYABAlGgJjZQ&sig=AOD64_1jAzQ7gIHJOSQzVvU62xTMp76fXA&ctype=46&q=&ved=0ahUKEwin94P4q7uAAxXERLgEHT4FDXsQqSUI1BU&adurl='), ('iphone 12 apple (64gb) roxo, tela de 6,1, 5g e câmera dupla de 12 mp', 3899.0, 'https://www.google.com.br/aclk?sa=l&ai=DChcSEwj7nYj4q7uAAxVBw5EKHQG_BacYABAnGgJjZQ&sig=AOD64_1aJbX89eVoZLdk99SUeGaRbRTHFw&ctype=5&q=&ved=0ahUKEwin94P4q7uAAxXERLgEHT4FDXsQ9A4I2BU&adurl='), ('smartphone apple iphone 12, 64gb, branco, 5g, 6.1\" super retina xdr oled, câmera dupla 12mp, selfie 12mp, ios 15', 3599.0, 'https://www.google.com.br/aclk?sa=l&ai=DChcSEwj7nYj4q7uAAxVBw5EKHQG_BacYABApGgJjZQ&sig=AOD64_2qUeZNtd6c6T_HRd1RSdbQ9-qgtA&ctype=5&q=&ved=0ahUKEwin94P4q7uAAxXERLgEHT4FDXsQ9A4I2xU&adurl='), ('iphone 11 apple (64gb) branco, tela de 6,1, 4g e câmera de 12 mp', 3099.0, 'https://www.google.com.br/aclk?sa=l&ai=DChcSEwj7nYj4q7uAAxVBw5EKHQG_BacYABArGgJjZQ&sig=AOD64_3lwJ0PCKYDT_umNgUUDnFKgH2geA&ctype=5&q=&ved=0ahUKEwin94P4q7uAAxXERLgEHT4FDXsQ9A4I3xU&adurl='), ('iphone 12 64gb tela 6.1 sem carregador e fone apple - preto', 3087.0, 'https://www.google.com.br/aclk?sa=l&ai=DChcSEwj7nYj4q7uAAxVBw5EKHQG_BacYABAtGgJjZQ&sig=AOD64_1F-5_X5CTQZukUHJIArcL7fLqKfA&ctype=5&q=&ved=0ahUKEwin94P4q7uAAxXERLgEHT4FDXsQ9A4I4hU&adurl='), ('iphone 12 apple 64gb preto tela de 6,1, câmera dupla de 12mp, ios', 3749.0, 'https://www.google.com.br/aclk?sa=l&ai=DChcSEwj7nYj4q7uAAxVBw5EKHQG_BacYABAvGgJjZQ&sig=AOD64_39LYIzSK09OgCbED7kXcCWkqkISg&ctype=5&q=&ved=0ahUKEwin94P4q7uAAxXERLgEHT4FDXsQ9A4I5RU&adurl='), ('apple iphone 12 (64 gb) - azul', 3770.0, 'https://www.google.com.br/aclk?sa=l&ai=DChcSEwj7nYj4q7uAAxVBw5EKHQG_BacYABAxGgJjZQ&sig=AOD64_2Ktg50wQcliT-KWy-jP7w-3UblCA&ctype=5&q=&ved=0ahUKEwin94P4q7uAAxXERLgEHT4FDXsQ9A4I6RU&adurl='), ('apple iphone 12 (64gb) - branco smartphone', 3699.0, 'https://www.google.com.br/aclk?sa=l&ai=DChcSEwj7nYj4q7uAAxVBw5EKHQG_BacYABAzGgJjZQ&sig=AOD64_1geA5KxqmmtfYVaMs5jRkmoJ_W5g&ctype=5&q=&ved=0ahUKEwin94P4q7uAAxXERLgEHT4FDXsQ9A4I7RU&adurl='), ('celular apple iphone 12 black 64gb vitrine/seminovo com carrregador e cabo', 3379.0, 'https://www.google.com.br/aclk?sa=l&ai=DChcSEwj7nYj4q7uAAxVBw5EKHQG_BacYABA1GgJjZQ&sig=AOD64_0yc6BHkyvOqSnEXd9Ds6eouLrSKA&ctype=5&q=&ved=0ahUKEwin94P4q7uAAxXERLgEHT4FDXsQ9A4I8BU&adurl=')]\n",
      "[('smartphone apple iphone 12 64gb câmera dupla', 3020.0, 'https://www.buscape.com.br/celular/smartphone-apple-iphone-12-64gb-ios?_lc=88&searchterm=iphone%2012%2064%20gb'), ('smartphone apple iphone 12 vermelho 64gb câmera dupla', 3779.1, 'https://www.buscape.com.br/celular/smartphone-apple-iphone-12-vermelho-64gb-ios?_lc=88&searchterm=iphone%2012%2064%20gb')]\n"
     ]
    }
   ],
   "source": [
    "lista_ofertas_google_shopping = busca_google_shopping(nav, produto, termos_banidos, preco_minimo, preco_maximo)\n",
    "print(lista_ofertas_google_shopping)\n",
    "\n",
    "lista_ofertas_buscape = busca_buscape(nav, produto, termos_banidos, preco_minimo, preco_maximo)\n",
    "print(lista_ofertas_buscape)"
   ]
  }
 ],
 "metadata": {
  "kernelspec": {
   "display_name": "base",
   "language": "python",
   "name": "python3"
  },
  "language_info": {
   "codemirror_mode": {
    "name": "ipython",
    "version": 3
   },
   "file_extension": ".py",
   "mimetype": "text/x-python",
   "name": "python",
   "nbconvert_exporter": "python",
   "pygments_lexer": "ipython3",
   "version": "3.9.7"
  },
  "orig_nbformat": 4
 },
 "nbformat": 4,
 "nbformat_minor": 2
}
