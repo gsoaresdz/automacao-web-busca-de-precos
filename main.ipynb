{
 "cells": [
  {
   "cell_type": "markdown",
   "metadata": {},
   "source": [
    "##### Bibliotecas"
   ]
  },
  {
   "cell_type": "code",
   "execution_count": 12,
   "metadata": {},
   "outputs": [],
   "source": [
    "from selenium import webdriver\n",
    "from selenium.webdriver.common.keys import Keys\n",
    "from selenium.webdriver.common.by import By\n",
    "import pandas as pd\n",
    "import re"
   ]
  },
  {
   "cell_type": "markdown",
   "metadata": {},
   "source": [
    "##### Navegador"
   ]
  },
  {
   "cell_type": "code",
   "execution_count": 13,
   "metadata": {},
   "outputs": [],
   "source": [
    "nav = webdriver.Chrome()"
   ]
  },
  {
   "cell_type": "markdown",
   "metadata": {},
   "source": [
    "##### Base de dados"
   ]
  },
  {
   "cell_type": "code",
   "execution_count": 14,
   "metadata": {},
   "outputs": [
    {
     "data": {
      "text/html": [
       "<div>\n",
       "<style scoped>\n",
       "    .dataframe tbody tr th:only-of-type {\n",
       "        vertical-align: middle;\n",
       "    }\n",
       "\n",
       "    .dataframe tbody tr th {\n",
       "        vertical-align: top;\n",
       "    }\n",
       "\n",
       "    .dataframe thead th {\n",
       "        text-align: right;\n",
       "    }\n",
       "</style>\n",
       "<table border=\"1\" class=\"dataframe\">\n",
       "  <thead>\n",
       "    <tr style=\"text-align: right;\">\n",
       "      <th></th>\n",
       "      <th>Nome</th>\n",
       "      <th>Termos banidos</th>\n",
       "      <th>Preço mínimo</th>\n",
       "      <th>Preço máximo</th>\n",
       "    </tr>\n",
       "  </thead>\n",
       "  <tbody>\n",
       "    <tr>\n",
       "      <th>0</th>\n",
       "      <td>iphone 12 64gb</td>\n",
       "      <td>mini watch</td>\n",
       "      <td>3000</td>\n",
       "      <td>3500</td>\n",
       "    </tr>\n",
       "    <tr>\n",
       "      <th>1</th>\n",
       "      <td>rtx 3060</td>\n",
       "      <td>zota galax</td>\n",
       "      <td>4000</td>\n",
       "      <td>4500</td>\n",
       "    </tr>\n",
       "  </tbody>\n",
       "</table>\n",
       "</div>"
      ],
      "text/plain": [
       "             Nome Termos banidos  Preço mínimo  Preço máximo\n",
       "0  iphone 12 64gb     mini watch          3000          3500\n",
       "1        rtx 3060     zota galax          4000          4500"
      ]
     },
     "metadata": {},
     "output_type": "display_data"
    }
   ],
   "source": [
    "tabela_produtos = pd.read_excel('buscas.xlsx')\n",
    "display(tabela_produtos)"
   ]
  },
  {
   "cell_type": "markdown",
   "metadata": {},
   "source": [
    "##### Google Shopping"
   ]
  },
  {
   "cell_type": "code",
   "execution_count": 15,
   "metadata": {},
   "outputs": [
    {
     "name": "stdout",
     "output_type": "stream",
     "text": [
      "R$ 3.499,00 Apple iPhone 12 64GB Preto 5G Tela 6,1\" Câm. Traseira 12+12MP Frontal 12MP https://www.google.com.br/aclk?sa=l&ai=DChcSEwjapNSurpmAAxUfN9QBHUR-AIcYABABGgJvYQ&sig=AOD64_3eWZpQd7pQWT0IYI8aY55n8myyNw&ctype=5&q=&ved=0ahUKEwjMxsmurpmAAxU4t5UCHZ1YBiwQww8I5Qs&adurl=\n",
      "R$ 3.779,10 iPhone 12 Apple 64GB Branco Tela 6,1 12MP iOS, 64GB, Branco https://www.google.com.br/aclk?sa=l&ai=DChcSEwjapNSurpmAAxUfN9QBHUR-AIcYABADGgJvYQ&sig=AOD64_2CmojriJ1c3X_DTzRGJePHSJXB_g&ctype=46&q=&ved=0ahUKEwjMxsmurpmAAxU4t5UCHZ1YBiwQqygI6Qs&adurl=\n",
      "R$ 3.599,00 iPhone 12 Apple 64GB Preto Tela de 6,1, Câmera Dupla de 12MP, iOS https://www.google.com.br/aclk?sa=l&ai=DChcSEwjapNSurpmAAxUfN9QBHUR-AIcYABAFGgJvYQ&sig=AOD64_0Ou015GVf6V6IUW6KWjGOTSEVsXg&ctype=5&q=&ved=0ahUKEwjMxsmurpmAAxU4t5UCHZ1YBiwQww8I7Qs&adurl=\n",
      "R$ 3.899,00 Iphone 12 Apple (64gb) Roxo, Tela De 6,1, 5g E Câmera Dupla De 12 Mp https://www.google.com.br/aclk?sa=l&ai=DChcSEwjapNSurpmAAxUfN9QBHUR-AIcYABAHGgJvYQ&sig=AOD64_3vLW1xD_-ZvmpFTw913njDQkmdgw&ctype=5&q=&ved=0ahUKEwjMxsmurpmAAxU4t5UCHZ1YBiwQww8I8Qs&adurl=\n",
      "R$ 3.599,10R$ 3.999,00 Smartphone Apple Iphone 12, 64Gb, Preto, 5G, 6.1\" Super Retina Xdr Oled, Câmera Dupla 12Mp, Selfie 12Mp, Ios 15 https://www.google.com.br/aclk?sa=l&ai=DChcSEwjapNSurpmAAxUfN9QBHUR-AIcYABAJGgJvYQ&sig=AOD64_1iya03rZFVHDVGXgFWRaGIj8WM3A&ctype=5&q=&ved=0ahUKEwjMxsmurpmAAxU4t5UCHZ1YBiwQww8I9As&adurl=\n",
      "R$ 3.699,00 Apple iPhone 12 (64GB) - Preto Smartphone https://www.google.com.br/aclk?sa=l&ai=DChcSEwjapNSurpmAAxUfN9QBHUR-AIcYABALGgJvYQ&sig=AOD64_3bpSPzc55bHXa8XRl__TEiZMrEBw&ctype=5&q=&ved=0ahUKEwjMxsmurpmAAxU4t5UCHZ1YBiwQww8I-As&adurl=\n",
      "R$ 2.969,10 iPhone 11 Apple 64GB Preto 6,1 12MP iOS, 64GB, Preto https://www.google.com.br/aclk?sa=l&ai=DChcSEwjapNSurpmAAxUfN9QBHUR-AIcYABANGgJvYQ&sig=AOD64_2DlwhvKV0GYJsQOSGiM3yj54dPiA&ctype=46&q=&ved=0ahUKEwjMxsmurpmAAxU4t5UCHZ1YBiwQqygI-ws&adurl=\n",
      "R$ 3.349,00 Iphone 12 64Gb Preto De Vitrine Tela 6,1 4G Câmera Traseira 12Mp 12Mp Vitrine https://www.google.com.br/aclk?sa=l&ai=DChcSEwjapNSurpmAAxUfN9QBHUR-AIcYABAPGgJvYQ&sig=AOD64_3ha-_9wm9dqpDOUy33GLAvKioUcg&ctype=5&q=&ved=0ahUKEwjMxsmurpmAAxU4t5UCHZ1YBiwQww8I_ws&adurl=\n",
      "R$ 3.699,00 Apple iPhone 12 (64GB) - Roxo https://www.google.com.br/aclk?sa=l&ai=DChcSEwjapNSurpmAAxUfN9QBHUR-AIcYABARGgJvYQ&sig=AOD64_2ZKLEnVJNT8FcTJK2ZJcgmZKeF4w&ctype=5&q=&ved=0ahUKEwjMxsmurpmAAxU4t5UCHZ1YBiwQww8Iggw&adurl=\n",
      "R$ 3.349,00 Iphone 12 64Gb Roxo Tela 6,1 4G Câmera Traseira 12Mp Vitrine https://www.google.com.br/aclk?sa=l&ai=DChcSEwjapNSurpmAAxUfN9QBHUR-AIcYABATGgJvYQ&sig=AOD64_2E_-Oe3VG--oikWTQ3d-dWZvk6bA&ctype=5&q=&ved=0ahUKEwjMxsmurpmAAxU4t5UCHZ1YBiwQww8IhQw&adurl=\n",
      "R$ 3.599,00 iPhone 12 Apple 64GB Azul Tela de 6,1, Câmera Dupla de 12MP, iOS https://www.google.com.br/aclk?sa=l&ai=DChcSEwjapNSurpmAAxUfN9QBHUR-AIcYABAVGgJvYQ&sig=AOD64_1xulQbLZ77pAk3_v6C3FM2vecW1w&ctype=5&q=&ved=0ahUKEwjMxsmurpmAAxU4t5UCHZ1YBiwQww8IiAw&adurl=\n",
      "R$ 3.599,00 Apple iPhone 12 (64 GB) - Azul https://www.google.com.br/aclk?sa=l&ai=DChcSEwjapNSurpmAAxUfN9QBHUR-AIcYABAXGgJvYQ&sig=AOD64_3J4cfL4DISiBfTElJQUXzFupHc8A&ctype=5&q=&ved=0ahUKEwjMxsmurpmAAxU4t5UCHZ1YBiwQww8IjAw&adurl=\n",
      "R$ 3.118,00 iPhone 12 Apple 64GB 6,1 iOS 14 Câmera Dupla 12MP Preto MGJ53BR/A https://www.google.com.br/aclk?sa=l&ai=DChcSEwjapNSurpmAAxUfN9QBHUR-AIcYABAZGgJvYQ&sig=AOD64_2Yk32Rztq82UnwfJmV6hEewosEcg&ctype=5&q=&ved=0ahUKEwjMxsmurpmAAxU4t5UCHZ1YBiwQww8IkAw&adurl=\n",
      "R$ 2.789,10 Recondicionado iPhone 12 64GB - Azul - Sou como novo https://www.google.com.br/aclk?sa=l&ai=DChcSEwjapNSurpmAAxUfN9QBHUR-AIcYABAbGgJvYQ&sig=AOD64_3yQ2Grrn6n_4J03SVHKRDHtNJEtQ&ctype=5&q=&ved=0ahUKEwjMxsmurpmAAxU4t5UCHZ1YBiwQww8Ikww&adurl=\n",
      "R$ 3.699,00 Apple iPhone 12 (64GB) - Vermelho Smartphone https://www.google.com.br/aclk?sa=l&ai=DChcSEwjapNSurpmAAxUfN9QBHUR-AIcYABAdGgJvYQ&sig=AOD64_3tzZD3wmz76gJlnBAzyWhg1YP-nA&ctype=5&q=&ved=0ahUKEwjMxsmurpmAAxU4t5UCHZ1YBiwQww8Ilww&adurl=\n",
      "R$ 3.779,10 iPhone 12 Apple 64GB Preto Tela 6,1 12MP iOS, 64GB, Preto https://www.google.com.br/aclk?sa=l&ai=DChcSEwjapNSurpmAAxUfN9QBHUR-AIcYABAfGgJvYQ&sig=AOD64_0dA4yFCL8JA5pIzqknThTRmw2Mxg&ctype=46&q=&ved=0ahUKEwjMxsmurpmAAxU4t5UCHZ1YBiwQqSUI6xQ&adurl=\n",
      "R$ 3.599,00 iPhone 12 Apple 64GB Branco Tela de 6,1, Câmera Dupla de 12MP, iOS https://www.google.com.br/aclk?sa=l&ai=DChcSEwjapNSurpmAAxUfN9QBHUR-AIcYABAhGgJvYQ&sig=AOD64_0uDEzZIzyCT-JzUVW4VSSCNozewQ&ctype=5&q=&ved=0ahUKEwjMxsmurpmAAxU4t5UCHZ1YBiwQ9A4I7xQ&adurl=\n",
      "R$ 3.899,00 Iphone 12 Apple (64gb) Azul, Tela De 6,1, 5g E Câmera Dupla De 12 Mp https://www.google.com.br/aclk?sa=l&ai=DChcSEwjapNSurpmAAxUfN9QBHUR-AIcYABAjGgJvYQ&sig=AOD64_364ZZw-MeWa4OI9VFt999yS4F3Ow&ctype=5&q=&ved=0ahUKEwjMxsmurpmAAxU4t5UCHZ1YBiwQ9A4I8xQ&adurl=\n",
      "R$ 2.969,10 iPhone 11 Apple 64GB Branco 6,1 12MP iOS, 64GB, Branco https://www.google.com.br/aclk?sa=l&ai=DChcSEwjapNSurpmAAxUfN9QBHUR-AIcYABAlGgJvYQ&sig=AOD64_17jl4lWYgy4vMEGtQW_asbYI4n1w&ctype=46&q=&ved=0ahUKEwjMxsmurpmAAxU4t5UCHZ1YBiwQqSUI9hQ&adurl=\n",
      "R$ 3.599,00R$ 4.499,00 iPhone 12 Apple 64GB Preto Tela de 6,1, Câmera Dupla de 12MP, iOS https://www.google.com.br/aclk?sa=l&ai=DChcSEwjapNSurpmAAxUfN9QBHUR-AIcYABAnGgJvYQ&sig=AOD64_3EnonKUK2_EP4mD0hTiJargTyv3A&ctype=5&q=&ved=0ahUKEwjMxsmurpmAAxU4t5UCHZ1YBiwQ9A4I-hQ&adurl=\n",
      "R$ 3.118,00 iPhone 12 Apple 64GB 6,1 iOS 14 Câmera Dupla 12MP Preto MGJ53BR/A https://www.google.com.br/aclk?sa=l&ai=DChcSEwjapNSurpmAAxUfN9QBHUR-AIcYABApGgJvYQ&sig=AOD64_2N84kdyn1YF4og3-5xhGZwkc-zgQ&ctype=5&q=&ved=0ahUKEwjMxsmurpmAAxU4t5UCHZ1YBiwQ9A4I_xQ&adurl=\n",
      "R$ 3.349,00 Iphone 12 64Gb Branco De Vitrine Tela 6,1&Quot; 4G Câmera Traseira 12Mp+12Mp - Vitrine https://www.google.com.br/aclk?sa=l&ai=DChcSEwjapNSurpmAAxUfN9QBHUR-AIcYABArGgJvYQ&sig=AOD64_0GHvQwWBSOG-9hrIkixCiI67jdVw&ctype=5&q=&ved=0ahUKEwjMxsmurpmAAxU4t5UCHZ1YBiwQ9A4IghU&adurl=\n",
      "R$ 3.109,00Usado iPhone 12 64 GB https://www.google.com.br/aclk?sa=l&ai=DChcSEwjapNSurpmAAxUfN9QBHUR-AIcYABAtGgJvYQ&sig=AOD64_2YDj0EtuYGyH1fKqN_1f0JDFc3cQ&ctype=5&q=&ved=0ahUKEwjMxsmurpmAAxU4t5UCHZ1YBiwQ9A4IhRU&adurl=\n",
      "R$ 4.049,91 Apple iPhone 12 64GB PRODUCT (RED) Tela 6,1 - 12MP iOS, 64GB, Product, https://www.google.com.br/aclk?sa=l&ai=DChcSEwjapNSurpmAAxUfN9QBHUR-AIcYABAvGgJvYQ&sig=AOD64_10gdmATINmKZryT2w0sUykrlHofA&ctype=46&q=&ved=0ahUKEwjMxsmurpmAAxU4t5UCHZ1YBiwQqSUIiRU&adurl=\n"
     ]
    }
   ],
   "source": [
    "nav.get('https://www.google.com.br/')\n",
    "\n",
    "# Busca\n",
    "produto = \"iphone 12 64gb\"\n",
    "nav.find_element(By.XPATH, '//*[@id=\"APjFqb\"]').send_keys(produto, Keys.ENTER)\n",
    "\n",
    "# Aba Shopping\n",
    "elementos = nav.find_element(By.CLASS_NAME, 'FMKtTb').click()\n",
    "\n",
    "# Preços\n",
    "lista_resultados = nav.find_elements(By.CLASS_NAME, 'KZmu8e')\n",
    "\n",
    "for resultado in lista_resultados:\n",
    "  preco = resultado.find_element(By.CLASS_NAME, 'hn9kf').text\n",
    "  nome = resultado.find_element(By.CLASS_NAME, 'sh-np__product-title').text\n",
    "\n",
    "  elemento_referencia = resultado.find_element(By.CLASS_NAME, 'SirUVb')\n",
    "  elemento_pai = elemento_referencia.find_element(By.XPATH, './..')\n",
    "  link = elemento_pai.get_attribute('href')\n",
    "  print(preco, nome, link)"
   ]
  }
 ],
 "metadata": {
  "kernelspec": {
   "display_name": "base",
   "language": "python",
   "name": "python3"
  },
  "language_info": {
   "codemirror_mode": {
    "name": "ipython",
    "version": 3
   },
   "file_extension": ".py",
   "mimetype": "text/x-python",
   "name": "python",
   "nbconvert_exporter": "python",
   "pygments_lexer": "ipython3",
   "version": "3.9.7"
  },
  "orig_nbformat": 4
 },
 "nbformat": 4,
 "nbformat_minor": 2
}
