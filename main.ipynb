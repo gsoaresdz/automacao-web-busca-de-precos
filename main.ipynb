{
 "cells": [
  {
   "cell_type": "markdown",
   "metadata": {},
   "source": [
    "##### Bibliotecas"
   ]
  },
  {
   "cell_type": "code",
   "execution_count": 33,
   "metadata": {},
   "outputs": [],
   "source": [
    "from selenium import webdriver\n",
    "from selenium.webdriver.common.keys import Keys\n",
    "from selenium.webdriver.common.by import By\n",
    "import pandas as pd\n",
    "import re"
   ]
  },
  {
   "cell_type": "markdown",
   "metadata": {},
   "source": [
    "##### Navegador"
   ]
  },
  {
   "cell_type": "code",
   "execution_count": 34,
   "metadata": {},
   "outputs": [],
   "source": [
    "nav = webdriver.Chrome()"
   ]
  },
  {
   "cell_type": "markdown",
   "metadata": {},
   "source": [
    "##### Base de dados"
   ]
  },
  {
   "cell_type": "code",
   "execution_count": 35,
   "metadata": {},
   "outputs": [
    {
     "data": {
      "text/html": [
       "<div>\n",
       "<style scoped>\n",
       "    .dataframe tbody tr th:only-of-type {\n",
       "        vertical-align: middle;\n",
       "    }\n",
       "\n",
       "    .dataframe tbody tr th {\n",
       "        vertical-align: top;\n",
       "    }\n",
       "\n",
       "    .dataframe thead th {\n",
       "        text-align: right;\n",
       "    }\n",
       "</style>\n",
       "<table border=\"1\" class=\"dataframe\">\n",
       "  <thead>\n",
       "    <tr style=\"text-align: right;\">\n",
       "      <th></th>\n",
       "      <th>Nome</th>\n",
       "      <th>Termos banidos</th>\n",
       "      <th>Preço mínimo</th>\n",
       "      <th>Preço máximo</th>\n",
       "    </tr>\n",
       "  </thead>\n",
       "  <tbody>\n",
       "    <tr>\n",
       "      <th>0</th>\n",
       "      <td>iphone 12 64 gb</td>\n",
       "      <td>mini watch</td>\n",
       "      <td>3000</td>\n",
       "      <td>3500</td>\n",
       "    </tr>\n",
       "    <tr>\n",
       "      <th>1</th>\n",
       "      <td>rtx 3060</td>\n",
       "      <td>zota galax</td>\n",
       "      <td>4000</td>\n",
       "      <td>4500</td>\n",
       "    </tr>\n",
       "  </tbody>\n",
       "</table>\n",
       "</div>"
      ],
      "text/plain": [
       "              Nome Termos banidos  Preço mínimo  Preço máximo\n",
       "0  iphone 12 64 gb     mini watch          3000          3500\n",
       "1         rtx 3060     zota galax          4000          4500"
      ]
     },
     "metadata": {},
     "output_type": "display_data"
    }
   ],
   "source": [
    "tabela_produtos = pd.read_excel('buscas.xlsx')\n",
    "display(tabela_produtos)"
   ]
  },
  {
   "cell_type": "markdown",
   "metadata": {},
   "source": [
    "##### Google Shopping"
   ]
  },
  {
   "cell_type": "code",
   "execution_count": 36,
   "metadata": {},
   "outputs": [
    {
     "name": "stdout",
     "output_type": "stream",
     "text": [
      "3499.0 apple iphone 12 64gb preto 5g tela 6,1\" câm. traseira 12+12mp frontal 12mp https://www.google.com.br/aclk?sa=l&ai=DChcSEwiH3LWUtZmAAxUSNpEKHTyQCmcYABABGgJjZQ&sig=AOD64_2dCmUYAfp-muEWnbK0-4FrSPmOmw&ctype=5&q=&ved=0ahUKEwj5mLGUtZmAAxUzELkGHeSBANgQww8Ijww&adurl=\n",
      "3349.0 iphone 12 64gb roxo tela 6,1 4g câmera traseira 12mp vitrine https://www.google.com.br/aclk?sa=l&ai=DChcSEwiH3LWUtZmAAxUSNpEKHTyQCmcYABAPGgJjZQ&sig=AOD64_1B3THivPAsiYJT2axn4UVIV9MogA&ctype=5&q=&ved=0ahUKEwj5mLGUtZmAAxUzELkGHeSBANgQww8IqQw&adurl=\n",
      "3118.0 iphone 12 apple 64gb 6,1 ios 14 câmera dupla 12mp preto mgj53br/a https://www.google.com.br/aclk?sa=l&ai=DChcSEwiH3LWUtZmAAxUSNpEKHTyQCmcYABARGgJjZQ&sig=AOD64_0E51o0XauN_YbLerp4DPltbMj-5w&ctype=5&q=&ved=0ahUKEwj5mLGUtZmAAxUzELkGHeSBANgQww8IrAw&adurl=\n",
      "3349.0 iphone 12 64gb preto de vitrine tela 6,1 4g câmera traseira 12mp 12mp vitrine https://www.google.com.br/aclk?sa=l&ai=DChcSEwiH3LWUtZmAAxUSNpEKHTyQCmcYABAVGgJjZQ&sig=AOD64_02-mgNXkQ-X65hlPthqx4_wh-Hnw&ctype=5&q=&ved=0ahUKEwj5mLGUtZmAAxUzELkGHeSBANgQww8Isww&adurl=\n",
      "3109.0 iphone 12 64 gb https://www.google.com.br/aclk?sa=l&ai=DChcSEwiH3LWUtZmAAxUSNpEKHTyQCmcYABAhGgJjZQ&sig=AOD64_3JILt85A3dOzgl0S4swWHeskw9LQ&ctype=5&q=&ved=0ahUKEwj5mLGUtZmAAxUzELkGHeSBANgQww8IyAw&adurl=\n",
      "3299.0 vitrine iphone 12 preto 64gb https://www.google.com.br/aclk?sa=l&ai=DChcSEwiH3LWUtZmAAxUSNpEKHTyQCmcYABAjGgJjZQ&sig=AOD64_3erLgrPebEO5ExXZ3XhcN2y6X9-A&ctype=5&q=&ved=0ahUKEwj5mLGUtZmAAxUzELkGHeSBANgQww8IzAw&adurl=\n",
      "3118.0 iphone 12 apple 64gb 6,1 ios 14 câmera dupla 12mp preto mgj53br/a https://www.google.com.br/aclk?sa=l&ai=DChcSEwiH3LWUtZmAAxUSNpEKHTyQCmcYABAlGgJjZQ&sig=AOD64_3z13GdeGr0WTtY-DxmZtV6r8ZaoA&ctype=5&q=&ved=0ahUKEwj5mLGUtZmAAxUzELkGHeSBANgQww8Izww&adurl=\n",
      "3199.0 vitrine iphone 12 branco 64gb https://www.google.com.br/aclk?sa=l&ai=DChcSEwiH3LWUtZmAAxUSNpEKHTyQCmcYABAnGgJjZQ&sig=AOD64_0T0fr7teCWHTj-3U028kI36I5SyA&ctype=5&q=&ved=0ahUKEwj5mLGUtZmAAxUzELkGHeSBANgQww8I0gw&adurl=\n",
      "3349.0 iphone 12 64gb branco de vitrine tela 6,1&quot; 4g câmera traseira 12mp+12mp - vitrine https://www.google.com.br/aclk?sa=l&ai=DChcSEwiH3LWUtZmAAxUSNpEKHTyQCmcYABAxGgJjZQ&sig=AOD64_2d4Xu0l8Zg5U9RFYA4lsWu6C6J6g&ctype=5&q=&ved=0ahUKEwj5mLGUtZmAAxUzELkGHeSBANgQww8I5Qw&adurl=\n",
      "3118.0 iphone 12 apple roxo, 64gb https://www.google.com.br/aclk?sa=l&ai=DChcSEwiH3LWUtZmAAxUSNpEKHTyQCmcYABAzGgJjZQ&sig=AOD64_2y7JkzESCitnl3UBXrwwcUA8X2rA&ctype=5&q=&ved=0ahUKEwj5mLGUtZmAAxUzELkGHeSBANgQww8I6Aw&adurl=\n",
      "3199.0 vitrine iphone 12 verde 64gb https://www.google.com.br/aclk?sa=l&ai=DChcSEwiH3LWUtZmAAxUSNpEKHTyQCmcYABA1GgJjZQ&sig=AOD64_1fWZe9O1HTbu5gUlzpcPK4M-uv-g&ctype=5&q=&ved=0ahUKEwj5mLGUtZmAAxUzELkGHeSBANgQww8I7Aw&adurl=\n",
      "3334.0 celular apple iphone 12 branco 64gb seminovo/vitrine + fonte e cabo https://www.google.com.br/aclk?sa=l&ai=DChcSEwiH3LWUtZmAAxUSNpEKHTyQCmcYABA5GgJjZQ&sig=AOD64_2gaHWwySZU9b0ayet3ReWed0LnrQ&ctype=5&q=&ved=0ahUKEwj5mLGUtZmAAxUzELkGHeSBANgQww8I8gw&adurl=\n",
      "3199.0 vitrine iphone 12 branco 64gb https://www.google.com.br/aclk?sa=l&ai=DChcSEwiH3LWUtZmAAxUSNpEKHTyQCmcYABBFGgJjZQ&sig=AOD64_2NpmD4nD9-8XGX_ABSt1g0g7DONA&ctype=5&q=&ved=0ahUKEwj5mLGUtZmAAxUzELkGHeSBANgQ9A4I0BU&adurl=\n",
      "3420.0 apple iphone 12 64 gb (vitrine) preto https://www.google.com.br/aclk?sa=l&ai=DChcSEwiH3LWUtZmAAxUSNpEKHTyQCmcYABBLGgJjZQ&sig=AOD64_0y09QWS6WhVGB0SDSRz3_lHdPJCQ&ctype=5&q=&ved=0ahUKEwj5mLGUtZmAAxUzELkGHeSBANgQ9A4I2xU&adurl=\n",
      "3199.0 vitrine iphone 12 azul 64gb https://www.google.com.br/aclk?sa=l&ai=DChcSEwiH3LWUtZmAAxUSNpEKHTyQCmcYABBPGgJjZQ&sig=AOD64_39jHVXxirVDySnylPcnDEXWcTLYg&ctype=5&q=&ved=0ahUKEwj5mLGUtZmAAxUzELkGHeSBANgQ9A4I4hU&adurl=\n",
      "3168.0 apple iphone 12 64gb 5g vitrine original com garantia https://www.google.com.br/aclk?sa=l&ai=DChcSEwiH3LWUtZmAAxUSNpEKHTyQCmcYABBVGgJjZQ&sig=AOD64_0bfI7P6cxxmw1XTjiQglZhsJoCyw&ctype=5&q=&ved=0ahUKEwj5mLGUtZmAAxUzELkGHeSBANgQ9A4I7BU&adurl=\n",
      "3118.0 iphone 12 64gb tela 6.1 sem carregador e fone apple - preto https://www.google.com.br/aclk?sa=l&ai=DChcSEwiH3LWUtZmAAxUSNpEKHTyQCmcYABBXGgJjZQ&sig=AOD64_2BQOAMMueZ4JHaGiNRmAb-RWk-og&ctype=5&q=&ved=0ahUKEwj5mLGUtZmAAxUzELkGHeSBANgQ9A4I8BU&adurl=\n",
      "3118.0 iphone 12 64gb tela 6.1 sem carregador e fone apple - preto https://www.google.com.br/aclk?sa=l&ai=DChcSEwiH3LWUtZmAAxUSNpEKHTyQCmcYABBZGgJjZQ&sig=AOD64_2SI7ZcItC4R2m2l_K52dNjwRub1A&ctype=5&q=&ved=0ahUKEwj5mLGUtZmAAxUzELkGHeSBANgQ9A4I9BU&adurl=\n"
     ]
    }
   ],
   "source": [
    "nav.get('https://www.google.com.br/')\n",
    "\n",
    "# Busca\n",
    "produto = \"iphone 12 64 gb\"\n",
    "produto = produto.lower()\n",
    "termos_banidos = 'mini watch'\n",
    "termos_banidos = termos_banidos.lower()\n",
    "lista_terms = produto.split(' ')\n",
    "lista_termos_nome_produto = produto.split(' ')\n",
    "preco_minimo = 3000\n",
    "preco_maximo = 3500\n",
    "\n",
    "nav.find_element(By.XPATH, '//*[@id=\"APjFqb\"]').send_keys(produto, Keys.ENTER)\n",
    "\n",
    "# Aba Shopping\n",
    "elementos = nav.find_element(By.CLASS_NAME, 'O3S9Rb').click()\n",
    "\n",
    "# Preços\n",
    "lista_resultados = nav.find_elements(By.CLASS_NAME, 'KZmu8e')\n",
    "\n",
    "for resultado in lista_resultados:\n",
    "  nome = resultado.find_element(By.CLASS_NAME, 'sh-np__product-title').text\n",
    "  nome = nome.lower()\n",
    "\n",
    "  tem_termos_banidos = False\n",
    "  for palavra in termos_banidos.split(' '):\n",
    "    if palavra in nome:\n",
    "      tem_termos_banidos = True\n",
    "\n",
    "  tem_todos_termos_produtos = True\n",
    "  for palavra in lista_termos_nome_produto:\n",
    "    if palavra not in nome:\n",
    "      tem_todos_termos_produtos = False   \n",
    "\n",
    "  if not tem_termos_banidos and tem_todos_termos_produtos:    \n",
    "    preco = resultado.find_element(By.CLASS_NAME, 'hn9kf').text\n",
    "    preco = re.search(r'\\d+\\.?\\d+', preco).group()\n",
    "    preco = preco.replace('R$', '').replace(' ', '').replace('.', '').replace(',', '.')\n",
    "    preco = float(preco)\n",
    "\n",
    "    preco_minimo = float(preco_minimo)\n",
    "    preco_maximo = float(preco_maximo)\n",
    "\n",
    "    if preco_minimo <= preco <= preco_maximo:\n",
    "      elemento_referencia = resultado.find_element(By.CLASS_NAME, 'SirUVb')\n",
    "      elemento_pai = elemento_referencia.find_element(By.XPATH, './..')\n",
    "      link = elemento_pai.get_attribute('href')\n",
    "      print(preco, nome, link)"
   ]
  }
 ],
 "metadata": {
  "kernelspec": {
   "display_name": "base",
   "language": "python",
   "name": "python3"
  },
  "language_info": {
   "codemirror_mode": {
    "name": "ipython",
    "version": 3
   },
   "file_extension": ".py",
   "mimetype": "text/x-python",
   "name": "python",
   "nbconvert_exporter": "python",
   "pygments_lexer": "ipython3",
   "version": "3.9.7"
  },
  "orig_nbformat": 4
 },
 "nbformat": 4,
 "nbformat_minor": 2
}
