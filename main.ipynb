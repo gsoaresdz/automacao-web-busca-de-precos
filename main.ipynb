{
 "cells": [
  {
   "cell_type": "markdown",
   "metadata": {},
   "source": [
    "##### Bibliotecas"
   ]
  },
  {
   "cell_type": "code",
   "execution_count": 37,
   "metadata": {},
   "outputs": [],
   "source": [
    "from selenium import webdriver\n",
    "from selenium.webdriver.common.keys import Keys\n",
    "from selenium.webdriver.common.by import By\n",
    "import pandas as pd\n",
    "import re\n",
    "import time"
   ]
  },
  {
   "cell_type": "markdown",
   "metadata": {},
   "source": [
    "##### Navegador"
   ]
  },
  {
   "cell_type": "code",
   "execution_count": 38,
   "metadata": {},
   "outputs": [],
   "source": [
    "nav = webdriver.Chrome()"
   ]
  },
  {
   "cell_type": "markdown",
   "metadata": {},
   "source": [
    "##### Base de dados"
   ]
  },
  {
   "cell_type": "code",
   "execution_count": 39,
   "metadata": {},
   "outputs": [
    {
     "data": {
      "text/html": [
       "<div>\n",
       "<style scoped>\n",
       "    .dataframe tbody tr th:only-of-type {\n",
       "        vertical-align: middle;\n",
       "    }\n",
       "\n",
       "    .dataframe tbody tr th {\n",
       "        vertical-align: top;\n",
       "    }\n",
       "\n",
       "    .dataframe thead th {\n",
       "        text-align: right;\n",
       "    }\n",
       "</style>\n",
       "<table border=\"1\" class=\"dataframe\">\n",
       "  <thead>\n",
       "    <tr style=\"text-align: right;\">\n",
       "      <th></th>\n",
       "      <th>Nome</th>\n",
       "      <th>Termos banidos</th>\n",
       "      <th>Preço mínimo</th>\n",
       "      <th>Preço máximo</th>\n",
       "    </tr>\n",
       "  </thead>\n",
       "  <tbody>\n",
       "    <tr>\n",
       "      <th>0</th>\n",
       "      <td>iphone 12 64 gb</td>\n",
       "      <td>mini watch</td>\n",
       "      <td>3000</td>\n",
       "      <td>3500</td>\n",
       "    </tr>\n",
       "    <tr>\n",
       "      <th>1</th>\n",
       "      <td>rtx 3060</td>\n",
       "      <td>zota galax</td>\n",
       "      <td>4000</td>\n",
       "      <td>4500</td>\n",
       "    </tr>\n",
       "  </tbody>\n",
       "</table>\n",
       "</div>"
      ],
      "text/plain": [
       "              Nome Termos banidos  Preço mínimo  Preço máximo\n",
       "0  iphone 12 64 gb     mini watch          3000          3500\n",
       "1         rtx 3060     zota galax          4000          4500"
      ]
     },
     "metadata": {},
     "output_type": "display_data"
    }
   ],
   "source": [
    "tabela_produtos = pd.read_excel('buscas.xlsx')\n",
    "display(tabela_produtos)"
   ]
  },
  {
   "cell_type": "markdown",
   "metadata": {},
   "source": [
    "##### Google Shopping"
   ]
  },
  {
   "cell_type": "markdown",
   "metadata": {},
   "source": [
    "- Variáveis"
   ]
  },
  {
   "cell_type": "code",
   "execution_count": 40,
   "metadata": {},
   "outputs": [],
   "source": [
    "produto = \"iphone 12 64 gb\"\n",
    "termos_banidos = 'mini watch'\n",
    "preco_minimo = 3000\n",
    "preco_maximo = 3500"
   ]
  },
  {
   "cell_type": "markdown",
   "metadata": {},
   "source": [
    "- Função"
   ]
  },
  {
   "cell_type": "code",
   "execution_count": 41,
   "metadata": {},
   "outputs": [],
   "source": [
    "def busca_google_shopping(nav, produto, termos_banidos, preco_minimo, preco_maximo):\n",
    "\n",
    "  produto = produto.lower()\n",
    "  termos_banidos = termos_banidos.lower()\n",
    "  lista_termos_banidos = termos_banidos.split(' ')\n",
    "  lista_termos_nome_produto = produto.split(' ')\n",
    "  lista_ofertas = []\n",
    "  \n",
    "  preco_minimo = float(preco_minimo)\n",
    "  preco_maximo = float(preco_maximo)\n",
    "\n",
    "  nav.get('https://www.google.com.br/')\n",
    "\n",
    "  nav.find_element(By.XPATH, '//*[@id=\"APjFqb\"]').send_keys(produto, Keys.ENTER)\n",
    "\n",
    "  # Aba Shopping\n",
    "  elementos = nav.find_element(By.CLASS_NAME, 'O3S9Rb').click()\n",
    "\n",
    "  # Preços\n",
    "  lista_resultados = nav.find_elements(By.CLASS_NAME, 'KZmu8e')\n",
    "\n",
    "  for resultado in lista_resultados:\n",
    "    nome = resultado.find_element(By.CLASS_NAME, 'sh-np__product-title').text\n",
    "    nome = nome.lower()\n",
    "\n",
    "    tem_termos_banidos = False\n",
    "    for palavra in termos_banidos.split(' '):\n",
    "      if palavra in nome:\n",
    "        tem_termos_banidos = True\n",
    "\n",
    "    tem_todos_termos_produtos = True\n",
    "    for palavra in lista_termos_nome_produto:\n",
    "      if palavra not in nome:\n",
    "        tem_todos_termos_produtos = False   \n",
    "\n",
    "    if not tem_termos_banidos and tem_todos_termos_produtos:    \n",
    "      preco = resultado.find_element(By.CLASS_NAME, 'hn9kf').text\n",
    "      preco = re.search(r'\\d+\\.?\\d+', preco).group()\n",
    "      preco = preco.replace('R$', '').replace(' ', '').replace('.', '').replace(',', '.')\n",
    "      preco = float(preco)\n",
    "\n",
    "      if preco_minimo <= preco <= preco_maximo:\n",
    "        elemento_referencia = resultado.find_element(By.CLASS_NAME, 'SirUVb')\n",
    "        elemento_pai = elemento_referencia.find_element(By.XPATH, './..')\n",
    "        link = elemento_pai.get_attribute('href')\n",
    "        lista_ofertas.append((nome, preco, link))\n",
    "  return lista_ofertas\n",
    "\n",
    "\n",
    "def busca_buscape(nav, produto, termos_banidos, preco_minimo, preco_maximo):\n",
    "\n",
    "  produto = produto.lower()\n",
    "  termos_banidos = termos_banidos.lower()\n",
    "  lista_termos_banidos = termos_banidos.split(' ')\n",
    "  lista_termos_nome_produto = produto.split(' ')\n",
    "  lista_ofertas = []\n",
    "  preco_minimo = float(preco_minimo)\n",
    "  preco_maximo = float(preco_maximo)\n",
    "\n",
    "  nav.get('https://www.buscape.com.br/')\n",
    "  nav.find_element(By.XPATH, '//*[@id=\"new-header\"]/div[1]/div/div/div[3]/div/div/div[2]/div/div[1]/input').send_keys(produto, Keys.ENTER)\n",
    "\n",
    "  time.sleep(5)\n",
    "    \n",
    "  lista_resultados = nav.find_elements(By.CLASS_NAME, 'SearchCard_ProductCard_Inner__7JhKb')\n",
    "\n",
    "  for resultado in lista_resultados:\n",
    "    preco = resultado.find_element(By.CLASS_NAME, 'Text_MobileHeadingS__Zxam2').text\n",
    "    nome = resultado.find_element(By.CLASS_NAME, 'SearchCard_ProductCard_Name__ZaO5o').text\n",
    "    link = resultado.get_attribute('href')\n",
    "    print(nome, preco, link)"
   ]
  },
  {
   "cell_type": "code",
   "execution_count": 42,
   "metadata": {},
   "outputs": [
    {
     "name": "stdout",
     "output_type": "stream",
     "text": [
      "Smartphone Apple iPhone 12 64GB Câmera Dupla R$ 3.020,00 https://www.buscape.com.br/celular/smartphone-apple-iphone-12-64gb-ios?_lc=88&searchterm=iphone%2012%2064%20gb\n",
      "Smartphone Apple iPhone 12 Usado 64GB Câmera Dupla R$ 2.749,00 https://www.buscape.com.br/celular/smartphone-apple-iphone-12-usado-64gb-camera-dupla?_lc=88&searchterm=iphone%2012%2064%20gb\n",
      "Smartphone Apple iPhone 12 Mini 64GB Câmera Dupla R$ 6.419,00 https://www.buscape.com.br/celular/smartphone-apple-iphone-12-mini-64gb-ios-camera-dupla?_lc=88&searchterm=iphone%2012%2064%20gb\n",
      "Smartphone Apple iPhone 12 Vermelho 64GB Câmera Dupla R$ 3.779,10 https://www.buscape.com.br/celular/smartphone-apple-iphone-12-vermelho-64gb-ios?_lc=88&searchterm=iphone%2012%2064%20gb\n",
      "Smartphone Apple iPhone 12 Mini Vermelho 64GB Câmera Dupla R$ 3.779,10 https://www.buscape.com.br/celular/smartphone-apple-iphone-12-mini-vermelho-64gb-ios?_lc=88&searchterm=iphone%2012%2064%20gb\n"
     ]
    }
   ],
   "source": [
    "# lista_ofertas_google_shopping = busca_google_shopping(nav, produto, termos_banidos, preco_minimo, preco_maximo)\n",
    "# print(lista_ofertas_google_shopping)\n",
    "\n",
    "busca_buscape(nav, produto, termos_banidos, preco_minimo, preco_maximo)"
   ]
  }
 ],
 "metadata": {
  "kernelspec": {
   "display_name": "base",
   "language": "python",
   "name": "python3"
  },
  "language_info": {
   "codemirror_mode": {
    "name": "ipython",
    "version": 3
   },
   "file_extension": ".py",
   "mimetype": "text/x-python",
   "name": "python",
   "nbconvert_exporter": "python",
   "pygments_lexer": "ipython3",
   "version": "3.9.7"
  },
  "orig_nbformat": 4
 },
 "nbformat": 4,
 "nbformat_minor": 2
}
